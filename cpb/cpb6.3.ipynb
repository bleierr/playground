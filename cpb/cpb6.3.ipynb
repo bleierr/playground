{
 "cells": [
  {
   "cell_type": "code",
   "execution_count": 51,
   "id": "8e962135",
   "metadata": {},
   "outputs": [],
   "source": [
    "import pandas as pd"
   ]
  },
  {
   "cell_type": "code",
   "execution_count": 52,
   "id": "e6e5b3d7",
   "metadata": {},
   "outputs": [],
   "source": [
    "titanic = pd.read_csv(\"DataSets/titanic.csv\")"
   ]
  },
  {
   "cell_type": "code",
   "execution_count": 53,
   "id": "e36aaa37",
   "metadata": {},
   "outputs": [],
   "source": [
    "fare = titanic.fare.copy().sort_values(ascending=False)"
   ]
  },
  {
   "cell_type": "code",
   "execution_count": 54,
   "id": "e46abc6e",
   "metadata": {},
   "outputs": [
    {
     "name": "stdout",
     "output_type": "stream",
     "text": [
      "258    512.3292\n",
      "737    512.3292\n",
      "679    512.3292\n",
      "88     263.0000\n",
      "27     263.0000\n",
      "         ...   \n",
      "633      0.0000\n",
      "413      0.0000\n",
      "822      0.0000\n",
      "732      0.0000\n",
      "674      0.0000\n",
      "Name: fare, Length: 891, dtype: float64\n"
     ]
    }
   ],
   "source": [
    "print(fare)"
   ]
  },
  {
   "cell_type": "code",
   "execution_count": 55,
   "id": "17df8e11",
   "metadata": {},
   "outputs": [
    {
     "data": {
      "text/html": [
       "<div>\n",
       "<style scoped>\n",
       "    .dataframe tbody tr th:only-of-type {\n",
       "        vertical-align: middle;\n",
       "    }\n",
       "\n",
       "    .dataframe tbody tr th {\n",
       "        vertical-align: top;\n",
       "    }\n",
       "\n",
       "    .dataframe thead th {\n",
       "        text-align: right;\n",
       "    }\n",
       "</style>\n",
       "<table border=\"1\" class=\"dataframe\">\n",
       "  <thead>\n",
       "    <tr style=\"text-align: right;\">\n",
       "      <th></th>\n",
       "      <th>survived</th>\n",
       "      <th>pclass</th>\n",
       "      <th>sex</th>\n",
       "      <th>age</th>\n",
       "      <th>sibsp</th>\n",
       "      <th>parch</th>\n",
       "      <th>fare</th>\n",
       "      <th>embarked</th>\n",
       "      <th>deck</th>\n",
       "    </tr>\n",
       "  </thead>\n",
       "  <tbody>\n",
       "    <tr>\n",
       "      <th>0</th>\n",
       "      <td>0</td>\n",
       "      <td>3</td>\n",
       "      <td>male</td>\n",
       "      <td>22.0</td>\n",
       "      <td>1</td>\n",
       "      <td>0</td>\n",
       "      <td>7.2500</td>\n",
       "      <td>S</td>\n",
       "      <td>NaN</td>\n",
       "    </tr>\n",
       "    <tr>\n",
       "      <th>1</th>\n",
       "      <td>1</td>\n",
       "      <td>1</td>\n",
       "      <td>female</td>\n",
       "      <td>38.0</td>\n",
       "      <td>1</td>\n",
       "      <td>0</td>\n",
       "      <td>71.2833</td>\n",
       "      <td>C</td>\n",
       "      <td>C</td>\n",
       "    </tr>\n",
       "    <tr>\n",
       "      <th>2</th>\n",
       "      <td>1</td>\n",
       "      <td>3</td>\n",
       "      <td>female</td>\n",
       "      <td>26.0</td>\n",
       "      <td>0</td>\n",
       "      <td>0</td>\n",
       "      <td>7.9250</td>\n",
       "      <td>S</td>\n",
       "      <td>NaN</td>\n",
       "    </tr>\n",
       "    <tr>\n",
       "      <th>3</th>\n",
       "      <td>1</td>\n",
       "      <td>1</td>\n",
       "      <td>female</td>\n",
       "      <td>35.0</td>\n",
       "      <td>1</td>\n",
       "      <td>0</td>\n",
       "      <td>53.1000</td>\n",
       "      <td>S</td>\n",
       "      <td>C</td>\n",
       "    </tr>\n",
       "    <tr>\n",
       "      <th>4</th>\n",
       "      <td>0</td>\n",
       "      <td>3</td>\n",
       "      <td>male</td>\n",
       "      <td>35.0</td>\n",
       "      <td>0</td>\n",
       "      <td>0</td>\n",
       "      <td>8.0500</td>\n",
       "      <td>S</td>\n",
       "      <td>NaN</td>\n",
       "    </tr>\n",
       "  </tbody>\n",
       "</table>\n",
       "</div>"
      ],
      "text/plain": [
       "   survived  pclass     sex   age  sibsp  parch     fare embarked deck\n",
       "0         0       3    male  22.0      1      0   7.2500        S  NaN\n",
       "1         1       1  female  38.0      1      0  71.2833        C    C\n",
       "2         1       3  female  26.0      0      0   7.9250        S  NaN\n",
       "3         1       1  female  35.0      1      0  53.1000        S    C\n",
       "4         0       3    male  35.0      0      0   8.0500        S  NaN"
      ]
     },
     "execution_count": 55,
     "metadata": {},
     "output_type": "execute_result"
    }
   ],
   "source": [
    "titanic.head()"
   ]
  },
  {
   "cell_type": "code",
   "execution_count": 56,
   "id": "243cfc91",
   "metadata": {},
   "outputs": [],
   "source": [
    "age = titanic.age"
   ]
  },
  {
   "cell_type": "code",
   "execution_count": 57,
   "id": "4b843501",
   "metadata": {},
   "outputs": [
    {
     "data": {
      "text/plain": [
       "0    22.0\n",
       "1    38.0\n",
       "2    26.0\n",
       "3    35.0\n",
       "4    35.0\n",
       "Name: age, dtype: float64"
      ]
     },
     "execution_count": 57,
     "metadata": {},
     "output_type": "execute_result"
    }
   ],
   "source": [
    "age.head()"
   ]
  },
  {
   "cell_type": "code",
   "execution_count": 58,
   "id": "d880c1df",
   "metadata": {},
   "outputs": [
    {
     "data": {
      "text/plain": [
       "630    80.0\n",
       "851    74.0\n",
       "493    71.0\n",
       "96     71.0\n",
       "116    70.5\n",
       "       ... \n",
       "859     NaN\n",
       "863     NaN\n",
       "868     NaN\n",
       "878     NaN\n",
       "888     NaN\n",
       "Name: age, Length: 891, dtype: float64"
      ]
     },
     "execution_count": 58,
     "metadata": {},
     "output_type": "execute_result"
    }
   ],
   "source": [
    "age.sort_values(ascending=False)"
   ]
  },
  {
   "cell_type": "code",
   "execution_count": 59,
   "id": "f36335ea",
   "metadata": {},
   "outputs": [
    {
     "data": {
      "text/plain": [
       "630    80.0\n",
       "851    74.0\n",
       "96     71.0\n",
       "493    71.0\n",
       "116    70.5\n",
       "672    70.0\n",
       "745    70.0\n",
       "33     66.0\n",
       "54     65.0\n",
       "280    65.0\n",
       "Name: age, dtype: float64"
      ]
     },
     "execution_count": 59,
     "metadata": {},
     "output_type": "execute_result"
    }
   ],
   "source": [
    "age.nlargest(n = 10)"
   ]
  },
  {
   "cell_type": "code",
   "execution_count": 60,
   "id": "c4254183",
   "metadata": {},
   "outputs": [
    {
     "data": {
      "text/plain": [
       "803    0.42\n",
       "755    0.67\n",
       "644    0.75\n",
       "Name: age, dtype: float64"
      ]
     },
     "execution_count": 60,
     "metadata": {},
     "output_type": "execute_result"
    }
   ],
   "source": [
    "age.sort_values(ascending=True).iloc[:3]"
   ]
  },
  {
   "cell_type": "code",
   "execution_count": 61,
   "id": "7e4875f9",
   "metadata": {},
   "outputs": [
    {
     "data": {
      "text/plain": [
       "803    0.42\n",
       "755    0.67\n",
       "469    0.75\n",
       "644    0.75\n",
       "78     0.83\n",
       "831    0.83\n",
       "305    0.92\n",
       "164    1.00\n",
       "172    1.00\n",
       "183    1.00\n",
       "Name: age, dtype: float64"
      ]
     },
     "execution_count": 61,
     "metadata": {},
     "output_type": "execute_result"
    }
   ],
   "source": [
    "age.nsmallest(n = 10)"
   ]
  },
  {
   "cell_type": "code",
   "execution_count": 62,
   "id": "5978eec5-7fb2-4b31-a9a0-67e7ed1acf23",
   "metadata": {},
   "outputs": [
    {
     "data": {
      "text/plain": [
       "803"
      ]
     },
     "execution_count": 62,
     "metadata": {},
     "output_type": "execute_result"
    }
   ],
   "source": [
    "age.nsmallest(n = 10).index[0]"
   ]
  },
  {
   "cell_type": "code",
   "execution_count": 63,
   "id": "3a75fd92",
   "metadata": {},
   "outputs": [
    {
     "data": {
      "text/plain": [
       "258    512.3292\n",
       "737    512.3292\n",
       "679    512.3292\n",
       "88     263.0000\n",
       "27     263.0000\n",
       "341    263.0000\n",
       "438    263.0000\n",
       "311    262.3750\n",
       "742    262.3750\n",
       "118    247.5208\n",
       "Name: fare, dtype: float64"
      ]
     },
     "execution_count": 63,
     "metadata": {},
     "output_type": "execute_result"
    }
   ],
   "source": [
    "titanic[\"fare\"].sort_values(ascending=False)[:10]"
   ]
  },
  {
   "cell_type": "code",
   "execution_count": 65,
   "id": "3603b5b0-9d38-4723-a85a-f644cde42a86",
   "metadata": {},
   "outputs": [
    {
     "data": {
      "text/plain": [
       "803"
      ]
     },
     "execution_count": 65,
     "metadata": {},
     "output_type": "execute_result"
    }
   ],
   "source": [
    "maxAge = titanic.age.idxmax()\n",
    "maxAge = titanic.age.idxmin()\n",
    "maxAge"
   ]
  },
  {
   "cell_type": "code",
   "execution_count": 66,
   "id": "a46558d5-6c23-4f3d-9f27-1e0794d673a2",
   "metadata": {},
   "outputs": [
    {
     "data": {
      "text/plain": [
       "survived       1\n",
       "pclass         1\n",
       "sex         male\n",
       "age         80.0\n",
       "sibsp          0\n",
       "parch          0\n",
       "fare        30.0\n",
       "embarked       S\n",
       "deck           A\n",
       "Name: 630, dtype: object"
      ]
     },
     "execution_count": 66,
     "metadata": {},
     "output_type": "execute_result"
    }
   ],
   "source": [
    "titanic.loc[titanic.age.idxmax()]"
   ]
  },
  {
   "cell_type": "code",
   "execution_count": 67,
   "id": "c0a258ae-5d7d-4745-92a8-1fae4041545a",
   "metadata": {},
   "outputs": [
    {
     "data": {
      "text/plain": [
       "survived         1\n",
       "pclass           3\n",
       "sex           male\n",
       "age           0.42\n",
       "sibsp            0\n",
       "parch            1\n",
       "fare        8.5167\n",
       "embarked         C\n",
       "deck           NaN\n",
       "Name: 803, dtype: object"
      ]
     },
     "execution_count": 67,
     "metadata": {},
     "output_type": "execute_result"
    }
   ],
   "source": [
    "titanic.loc[titanic.age.idxmin()]"
   ]
  },
  {
   "cell_type": "markdown",
   "id": "c74458d6-f07b-49e5-8a2c-0faf2f5dea9c",
   "metadata": {},
   "source": [
    "## Sales data"
   ]
  },
  {
   "cell_type": "code",
   "execution_count": 77,
   "id": "255ad8de-b221-49e8-a19a-ace8cb7082ad",
   "metadata": {},
   "outputs": [
    {
     "data": {
      "text/plain": [
       "{'Mon': 10.4, 'Tue': 25, 'Wed': 6, 'Thu': 36, 'Fri': 2, 'Sat': 0, 'Sun': None}"
      ]
     },
     "execution_count": 77,
     "metadata": {},
     "output_type": "execute_result"
    }
   ],
   "source": [
    "dic = {\"Mon\":10, \"Tue\":25, \"Wed\":6, \"Thu\":36, \"Fri\":2, \"Sat\":0, \"Sun\":None}\n",
    "dic"
   ]
  },
  {
   "cell_type": "code",
   "execution_count": 70,
   "id": "2367793b-1d21-4330-a81c-545afa4738ea",
   "metadata": {},
   "outputs": [
    {
     "data": {
      "text/plain": [
       "Mon    10.0\n",
       "Tue    25.0\n",
       "Wed     6.0\n",
       "Thu    36.0\n",
       "Fri     2.0\n",
       "Sat     0.0\n",
       "Sun     NaN\n",
       "dtype: float64"
      ]
     },
     "execution_count": 70,
     "metadata": {},
     "output_type": "execute_result"
    }
   ],
   "source": [
    "sales = pd.Series(dic)\n",
    "sales"
   ]
  },
  {
   "cell_type": "code",
   "execution_count": 74,
   "id": "1243e4b7-914c-41b8-b772-dadabe0c25fe",
   "metadata": {},
   "outputs": [
    {
     "data": {
      "text/plain": [
       "'Sat'"
      ]
     },
     "execution_count": 74,
     "metadata": {},
     "output_type": "execute_result"
    }
   ],
   "source": [
    "sales.sort_values(ascending=True).index[0]"
   ]
  },
  {
   "cell_type": "code",
   "execution_count": 75,
   "id": "05380ebb-c957-440a-9191-cd189f3b532a",
   "metadata": {},
   "outputs": [
    {
     "data": {
      "text/plain": [
       "'Sat'"
      ]
     },
     "execution_count": 75,
     "metadata": {},
     "output_type": "execute_result"
    }
   ],
   "source": [
    "sales.idxmin()"
   ]
  },
  {
   "cell_type": "code",
   "execution_count": 78,
   "id": "87627271-bd5f-449b-a415-3d2192a913cd",
   "metadata": {},
   "outputs": [],
   "source": [
    "sales = pd.Series([23.3, 4.7, 13.6, 12.9, 9.0, 4.5, None, 13.5], index = ['Mon', 'Tue', 'Wed', 'Thu', 'Fri', 'Sat', 'Sun', 'Mon'])"
   ]
  },
  {
   "cell_type": "code",
   "execution_count": 79,
   "id": "f94b5228-7d8d-475b-9306-1e42032ccd07",
   "metadata": {},
   "outputs": [
    {
     "data": {
      "text/plain": [
       "Mon    23.3\n",
       "Tue     4.7\n",
       "Wed    13.6\n",
       "Thu    12.9\n",
       "Fri     9.0\n",
       "Sat     4.5\n",
       "Sun     NaN\n",
       "Mon    13.5\n",
       "dtype: float64"
      ]
     },
     "execution_count": 79,
     "metadata": {},
     "output_type": "execute_result"
    }
   ],
   "source": [
    "sales"
   ]
  },
  {
   "cell_type": "code",
   "execution_count": 81,
   "id": "4ee03bc2-1a81-47f2-8064-92d49ce192ad",
   "metadata": {},
   "outputs": [
    {
     "data": {
      "text/plain": [
       "Mon    23.3\n",
       "Tue     4.7\n",
       "Wed    13.6\n",
       "Thu    15.0\n",
       "Fri     9.0\n",
       "Sat     4.5\n",
       "Sun     NaN\n",
       "Mon    13.5\n",
       "dtype: float64"
      ]
     },
     "execution_count": 81,
     "metadata": {},
     "output_type": "execute_result"
    }
   ],
   "source": [
    "sales[\"Thu\"] = 15\n",
    "\n",
    "sales"
   ]
  },
  {
   "cell_type": "markdown",
   "id": "1d3232ff-548f-4d3f-80f8-47e1b063a8df",
   "metadata": {},
   "source": [
    "## Dollar to Euro"
   ]
  },
  {
   "cell_type": "code",
   "execution_count": 85,
   "id": "b210b62e-8223-49ed-945e-613a3ebc4954",
   "metadata": {},
   "outputs": [
    {
     "data": {
      "text/plain": [
       "Mon    27.96\n",
       "Tue     5.64\n",
       "Wed    16.32\n",
       "Thu    18.00\n",
       "Fri    10.80\n",
       "Sat     5.40\n",
       "Sun      NaN\n",
       "Mon    16.20\n",
       "dtype: float64"
      ]
     },
     "execution_count": 85,
     "metadata": {},
     "output_type": "execute_result"
    }
   ],
   "source": [
    "sales_EUR = (sales*1.2).round(3)\n",
    "sales_EUR"
   ]
  },
  {
   "cell_type": "markdown",
   "id": "473967f7-4690-44f2-ae8a-e8ea2c72b3e1",
   "metadata": {},
   "source": [
    "## titanic exercise"
   ]
  },
  {
   "cell_type": "code",
   "execution_count": 88,
   "id": "926349b1-dd9d-4e7c-afd0-64cebfa86dce",
   "metadata": {},
   "outputs": [
    {
     "data": {
      "text/plain": [
       "0      22.0\n",
       "1      38.0\n",
       "2      26.0\n",
       "3      35.0\n",
       "4      35.0\n",
       "       ... \n",
       "886    27.0\n",
       "887    19.0\n",
       "888     NaN\n",
       "889    26.0\n",
       "890    32.0\n",
       "Name: age, Length: 891, dtype: float64"
      ]
     },
     "execution_count": 88,
     "metadata": {},
     "output_type": "execute_result"
    }
   ],
   "source": [
    "age = titanic.age\n",
    "age"
   ]
  },
  {
   "cell_type": "code",
   "execution_count": null,
   "id": "59893f04-842c-4991-b32c-8269ccabb4e7",
   "metadata": {},
   "outputs": [],
   "source": []
  }
 ],
 "metadata": {
  "kernelspec": {
   "display_name": "Python 3 (ipykernel)",
   "language": "python",
   "name": "python3"
  },
  "language_info": {
   "codemirror_mode": {
    "name": "ipython",
    "version": 3
   },
   "file_extension": ".py",
   "mimetype": "text/x-python",
   "name": "python",
   "nbconvert_exporter": "python",
   "pygments_lexer": "ipython3",
   "version": "3.12.4"
  }
 },
 "nbformat": 4,
 "nbformat_minor": 5
}
